{
 "cells": [
  {
   "cell_type": "markdown",
   "id": "a9c73da5",
   "metadata": {},
   "source": [
    "# Face Detection Project for both Image and RealTime"
   ]
  },
  {
   "cell_type": "code",
   "execution_count": 3,
   "id": "eac69682",
   "metadata": {},
   "outputs": [],
   "source": [
    "import numpy as np \n",
    "import cv2"
   ]
  },
  {
   "cell_type": "code",
   "execution_count": 4,
   "id": "bcb32c65",
   "metadata": {},
   "outputs": [],
   "source": [
    "img = cv2.imread('f.jpg')\n",
    "\n",
    "# A function to show image\n",
    "def show_img(image):\n",
    "    cv2.imshow('image', image)\n",
    "    cv2.waitKey(0)\n",
    "    cv2.destroyAllWindows()\n",
    "    "
   ]
  },
  {
   "cell_type": "code",
   "execution_count": 6,
   "id": "3c6ce038",
   "metadata": {},
   "outputs": [],
   "source": [
    "show_img(img)"
   ]
  },
  {
   "cell_type": "code",
   "execution_count": 5,
   "id": "ca100454",
   "metadata": {},
   "outputs": [],
   "source": [
    "#Load the Classifier module\n",
    "face_cascade = cv2.CascadeClassifier('./model/haarcascade_frontalface_default.xml')"
   ]
  },
  {
   "cell_type": "markdown",
   "id": "a263179e",
   "metadata": {},
   "source": [
    "Function to detect faces in Image"
   ]
  },
  {
   "cell_type": "code",
   "execution_count": 7,
   "id": "2b9d281f",
   "metadata": {},
   "outputs": [],
   "source": [
    "def detect_face(img):\n",
    "    \n",
    "    #make a copy of the image\n",
    "    image = img.copy()\n",
    "    \n",
    "    #convert image to gray\n",
    "    gray = cv2.cvtColor(img, cv2.COLOR_BGR2GRAY)\n",
    "    \n",
    "    #detect faces of the gray image\n",
    "    boxes, detections = face_cascade.detectMultiScale2(gray,minNeighbors=1)\n",
    "    \n",
    "    #draw bounding boxes on image\n",
    "    for x,y,w,h in boxes:\n",
    "        cv2.rectangle(image, (x,y), (x+w, y+h), (0,255,0), 1)\n",
    "\n",
    "    return image\n",
    "        "
   ]
  },
  {
   "cell_type": "code",
   "execution_count": 8,
   "id": "0d56d334",
   "metadata": {},
   "outputs": [],
   "source": [
    "detected = detect_face(img)\n",
    "\n",
    "show_img(detected)"
   ]
  },
  {
   "cell_type": "markdown",
   "id": "b200c414",
   "metadata": {},
   "source": [
    "# Real Time Face Detection"
   ]
  },
  {
   "cell_type": "code",
   "execution_count": 9,
   "id": "e65ebad0",
   "metadata": {},
   "outputs": [],
   "source": [
    "#read realtime vidoe from detault device cam\n",
    "capture = cv2.VideoCapture(0)\n",
    "\n",
    "#Load the Classifier module\n",
    "face_cascade = cv2.CascadeClassifier('./model/haarcascade_frontalface_default.xml')\n",
    "\n",
    "\n",
    "while True:\n",
    "    ret, frame = capture.read()\n",
    "    \n",
    "    if ret == False:\n",
    "        break\n",
    "    \n",
    "    #detect the face from a frame using the fn above\n",
    "    face_detect = detect_face(frame)\n",
    "    \n",
    "    #show the capture video\n",
    "    cv2.imshow(\"realtime video\", face_detect)\n",
    "    if cv2.waitKey(1) == ord('q'):\n",
    "        break\n",
    "\n",
    "capture.release()\n",
    "cv2.destroyAllWindows()\n",
    "    "
   ]
  }
 ],
 "metadata": {
  "kernelspec": {
   "display_name": "Python 3 (ipykernel)",
   "language": "python",
   "name": "python3"
  },
  "language_info": {
   "codemirror_mode": {
    "name": "ipython",
    "version": 3
   },
   "file_extension": ".py",
   "mimetype": "text/x-python",
   "name": "python",
   "nbconvert_exporter": "python",
   "pygments_lexer": "ipython3",
   "version": "3.9.16"
  }
 },
 "nbformat": 4,
 "nbformat_minor": 5
}
