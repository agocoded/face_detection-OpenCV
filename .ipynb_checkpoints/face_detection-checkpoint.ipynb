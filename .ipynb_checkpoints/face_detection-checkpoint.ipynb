{
 "cells": [
  {
   "cell_type": "markdown",
   "id": "49af0ae6",
   "metadata": {},
   "source": [
    "# Face Detection Project for both Image and RealTime"
   ]
  },
  {
   "cell_type": "code",
   "execution_count": 1,
   "id": "33542beb",
   "metadata": {},
   "outputs": [],
   "source": [
    "import numpy as np \n",
    "import cv2"
   ]
  },
  {
   "cell_type": "code",
   "execution_count": 11,
   "id": "c6e7fd9b",
   "metadata": {},
   "outputs": [],
   "source": [
    "img = cv2.imread('f.jpg')\n",
    "\n",
    "# A function to show image\n",
    "def show_img(image):\n",
    "    cv2.imshow('image', image)\n",
    "    cv2.waitKey(0)\n",
    "    cv2.destroyAllWindows()\n",
    "    "
   ]
  },
  {
   "cell_type": "code",
   "execution_count": 13,
   "id": "96082c7c",
   "metadata": {},
   "outputs": [],
   "source": [
    "show_img(img)"
   ]
  },
  {
   "cell_type": "code",
   "execution_count": 22,
   "id": "be3f39c5",
   "metadata": {},
   "outputs": [],
   "source": [
    "#Load the Classifier module\n",
    "face_cascade = cv2.CascadeClassifier('./model/haarcascade_frontalface_default.xml')"
   ]
  },
  {
   "cell_type": "markdown",
   "id": "fb824cfa",
   "metadata": {},
   "source": [
    "Function to detect faces in Image"
   ]
  },
  {
   "cell_type": "code",
   "execution_count": 23,
   "id": "79d3b7d0",
   "metadata": {},
   "outputs": [],
   "source": [
    "def detect_face(img):\n",
    "    \n",
    "    #make a copy of the image\n",
    "    image = img.copy()\n",
    "    \n",
    "    #convert image to gray\n",
    "    gray = cv2.cvtColor(img, cv2.COLOR_BGR2GRAY)\n",
    "    \n",
    "    #detect faces of the gray image\n",
    "    boxes, detections = face_cascade.detectMultiScale2(gray,minNeighbors=8)\n",
    "    \n",
    "    #draw bounding boxes on image\n",
    "    for x,y,w,h in boxes:\n",
    "        cv2.rectabgle(image, (x,y), (x+w, y+h), (0,255,0), 1.2)\n",
    "\n",
    "    return image\n",
    "        "
   ]
  },
  {
   "cell_type": "code",
   "execution_count": null,
   "id": "df8c2e0d",
   "metadata": {},
   "outputs": [],
   "source": []
  }
 ],
 "metadata": {
  "kernelspec": {
   "display_name": "Python 3 (ipykernel)",
   "language": "python",
   "name": "python3"
  },
  "language_info": {
   "codemirror_mode": {
    "name": "ipython",
    "version": 3
   },
   "file_extension": ".py",
   "mimetype": "text/x-python",
   "name": "python",
   "nbconvert_exporter": "python",
   "pygments_lexer": "ipython3",
   "version": "3.9.16"
  }
 },
 "nbformat": 4,
 "nbformat_minor": 5
}
